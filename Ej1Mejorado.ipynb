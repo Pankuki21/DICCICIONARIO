{
  "nbformat": 4,
  "nbformat_minor": 0,
  "metadata": {
    "colab": {
      "provenance": [],
      "authorship_tag": "ABX9TyNFsaXZszA0oytFLhpB9wja",
      "include_colab_link": true
    },
    "kernelspec": {
      "name": "python3",
      "display_name": "Python 3"
    },
    "language_info": {
      "name": "python"
    }
  },
  "cells": [
    {
      "cell_type": "markdown",
      "metadata": {
        "id": "view-in-github",
        "colab_type": "text"
      },
      "source": [
        "<a href=\"https://colab.research.google.com/github/Pankuki21/DICCICIONARIO/blob/main/Ej1Mejorado.ipynb\" target=\"_parent\"><img src=\"https://colab.research.google.com/assets/colab-badge.svg\" alt=\"Open In Colab\"/></a>"
      ]
    },
    {
      "cell_type": "code",
      "execution_count": null,
      "metadata": {
        "id": "r45X78W3gmTf"
      },
      "outputs": [],
      "source": [
        "inventario = {}\n",
        "def mostrar_inventario():\n",
        "    if not inventario:\n",
        "        print('---Inventario actual---\\n')\n",
        "        for nombre, datos in inventario.items():\n",
        "            print(f\"{nombre.title()} - Cantidad:{datos['cantidad']}, Precio: ${datos['datos']}\")\n",
        "\n",
        "\n",
        "def menu():\n",
        "    while True:\n",
        "        print('\\n---Gestión de inventario---')\n",
        "        print('1: Ingresar producto.')\n",
        "        print('2: Buscar producto.')\n",
        "        print('3. Eliminar producto.')\n",
        "        print('4: Mostrar inventario.')\n",
        "        print('5: Salir.')\n",
        "        opcion = input('Selecciona una opción: ')\n",
        "\n",
        "        if opcion == '1':\n",
        "            while True:\n",
        "                nombre = input('Ingrese el nombre del producto: ').strip().lower()\n",
        "\n",
        "                if nombre in inventario:\n",
        "                    print('El producto ya esta registrado.')\n",
        "                    break\n",
        "                try:\n",
        "                    cantidad = int(input('Ingrese la cantidad: '))\n",
        "                    if cantidad <= 0:\n",
        "                        print('Cantidad inválida. Debe ser mayor a 0.')\n",
        "                        continue\n",
        "                except ValueError:\n",
        "                    print('Cantidad inválida. Debe ser un número.')\n",
        "                    continue\n",
        "                try:\n",
        "                    precio = float(input('Ingrese el precio: '))\n",
        "                    if precio <= 0:\n",
        "                        print('El precio es inválido. El precio debe ser mayor a 0.')\n",
        "                        continue\n",
        "                except ValueError:\n",
        "                    print('Precio inválido. Ingrese un número.')\n",
        "                    continue\n",
        "                inventario[nombre] = {'cantidad': cantidad,'precio': precio}\n",
        "                print('Producto registrado correctamente')\n",
        "                break\n",
        "\n",
        "        elif opcion == '2':\n",
        "            nombre = input('Ingrese el nombre del producto a buscar: ').strip().lower()\n",
        "            if nombre in inventario:\n",
        "                producto = inventario[nombre]\n",
        "                print(f'Producto: {nombre}')\n",
        "                print(f\"Cantidad: {producto['cantidad']}\")\n",
        "                print(f\"Precio: ${producto['precio']}\")\n",
        "                break\n",
        "            else:\n",
        "                print('El produto no existe. Intente nuevamente.')\n",
        "\n",
        "        elif opcion == '3':\n",
        "            nombre = input('Ingrese el producto que quiere eliminar: ').strip()\n",
        "            if nombre in inventario:\n",
        "                del inventario[nombre]\n",
        "                print('Producto eliminado correctamente.')\n",
        "                break\n",
        "            else:\n",
        "                print('El producto no se pudo eliminar porque no existe.')\n",
        "        elif opcion == '4':\n",
        "            mostrar_inventario()\n",
        "        elif opcion == '4':\n",
        "            print('Programa finalizado')\n",
        "            break\n",
        "        else:\n",
        "            print('Opción no válida.')\n",
        "\n",
        "menu()"
      ]
    }
  ]
}