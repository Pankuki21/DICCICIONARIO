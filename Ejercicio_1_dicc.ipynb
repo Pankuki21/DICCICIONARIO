{
  "nbformat": 4,
  "nbformat_minor": 0,
  "metadata": {
    "colab": {
      "provenance": [],
      "authorship_tag": "ABX9TyNvIIgNeVsijvzNf90KYXLZ",
      "include_colab_link": true
    },
    "kernelspec": {
      "name": "python3",
      "display_name": "Python 3"
    },
    "language_info": {
      "name": "python"
    }
  },
  "cells": [
    {
      "cell_type": "markdown",
      "metadata": {
        "id": "view-in-github",
        "colab_type": "text"
      },
      "source": [
        "<a href=\"https://colab.research.google.com/github/Pankuki21/DICCICIONARIO/blob/main/Ejercicio_1_dicc.ipynb\" target=\"_parent\"><img src=\"https://colab.research.google.com/assets/colab-badge.svg\" alt=\"Open In Colab\"/></a>"
      ]
    },
    {
      "cell_type": "code",
      "source": [
        "agenda = []\n",
        "\n",
        "def agregar_contacto():\n",
        "    nombre = input('Nombre: ')\n",
        "    telefono = input('Teléfono: ')\n",
        "    email = input('Email: ')\n",
        "    contacto = {'nombre': nombre, 'telefono': telefono, 'email': email}\n",
        "    agenda.append(contacto)\n",
        "    print('Contacto agregado.')\n",
        "\n",
        "def ver_contactos():\n",
        "     for c in agenda:\n",
        "         print(c)\n",
        "def buscar_contacto():\n",
        "    nombre = input('Buscar nombre: ')\n",
        "    for c in agenda:\n",
        "        for c in agenda():\n",
        "            print(c)\n",
        "            return\n",
        "    print('Contacto no encontrado.')\n",
        "\n",
        "def menu():\n",
        "    while True:\n",
        "        print('\\n1. Agregar contacto.\\n2. Ver contactos.\\n3. Buscar contacto.\\n4. Salir.')\n",
        "        opcion =input('Elige: ')\n",
        "        if opcion == '1':\n",
        "             agregar_contacto()\n",
        "        elif opcion == '2':\n",
        "             ver_contactos()\n",
        "        elif opcion == '3':\n",
        "             buscar_contacto()\n",
        "        elif opcion == '4':\n",
        "             break\n",
        "        else:\n",
        "             print('Opción no válida.')\n",
        "menu()"
      ],
      "metadata": {
        "id": "PsQLiSGnaw7E"
      },
      "execution_count": null,
      "outputs": []
    }
  ]
}